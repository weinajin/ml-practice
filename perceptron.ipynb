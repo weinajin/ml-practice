{
 "cells": [
  {
   "cell_type": "code",
   "execution_count": 1,
   "metadata": {},
   "outputs": [],
   "source": [
    "import pandas as pd\n",
    "import numpy as np"
   ]
  },
  {
   "cell_type": "code",
   "execution_count": 61,
   "metadata": {},
   "outputs": [],
   "source": [
    "def load_data(file):\n",
    "    with open(file,'r') as f:\n",
    "        df = pd.DataFrame(l.rstrip().split() for l in f)\n",
    "\n",
    "    X = np.array(df.iloc[:,:4], dtype=float)\n",
    "    X = np.concatenate((X, np.ones((X.shape[0],1))), axis = 1)\n",
    "    y = np.array(df.iloc[:,4], dtype = int)\n",
    "    return X, y"
   ]
  },
  {
   "cell_type": "raw",
   "metadata": {},
   "source": [
    "# implement perceptron learning algorithm, with naive cycle\n",
    "X = X_ori\n",
    "iteration = 10000\n",
    "i = 0\n",
    "nb_updates = 0\n",
    "w = np.zeros((5))\n",
    "\n",
    "for t in range(iteration):\n",
    "    if i == X.shape[0] - 1:\n",
    "        break\n",
    "    for i in range(X.shape[0]):\n",
    "        y_prim = 1 if (np.dot(X[i], w) > 0 ) else -1\n",
    "        if y_prim != y[i]:\n",
    "            w = w + y[i] * X[i]\n",
    "            nb_updates += 1\n",
    "            break\n",
    "        \n",
    "            \n",
    "        "
   ]
  },
  {
   "cell_type": "code",
   "execution_count": 62,
   "metadata": {},
   "outputs": [],
   "source": [
    "X_pla, y_pla = load_data('hw1_15_train.dat')\n",
    "X_train, y_train = load_data('hw1_18_train.dat')\n",
    "X_test, y_test = load_data('hw1_18_test.dat')"
   ]
  },
  {
   "cell_type": "code",
   "execution_count": 76,
   "metadata": {},
   "outputs": [],
   "source": [
    "def train_PLA(X, y, eta = 1, rand = False):\n",
    "    #  iteration over the training set\n",
    "    updt = 0\n",
    "    updated = False\n",
    "    w = np.zeros(X.shape[1])\n",
    "    idx = np.arange(X.shape[0])\n",
    "    if rand:\n",
    "        idx = np.random.permutation(X.shape[0])\n",
    "    counter = 0 # a counter of idx\n",
    "    while True:\n",
    "        i = idx[counter]\n",
    "        counter += 1\n",
    "        y_prim = 1 if (np.dot(X[i], w) > 0 ) else -1\n",
    "        if y_prim != y[i]:\n",
    "            w = w + eta * y[i] * X[i]\n",
    "            updt += 1\n",
    "            updated = True\n",
    "        if counter  == (X.shape[0] -1): #!!note: remember to reset counter!!!\n",
    "            counter = 0 # if a full-round, restart counter\n",
    "            if not updated:\n",
    "                break\n",
    "            updated = False\n",
    "\n",
    "\n",
    "    return w, updt\n",
    "        \n"
   ]
  },
  {
   "cell_type": "code",
   "execution_count": 82,
   "metadata": {},
   "outputs": [
    {
     "name": "stdout",
     "output_type": "stream",
     "text": [
      "400 45\n"
     ]
    }
   ],
   "source": [
    "# Q 15 naive sequence\n",
    "w, updt = train_PLA(X,y)\n",
    "y_prim = np.where(np.dot(X, w) >0, 1, -1)\n",
    "print(sum(y_prim ==y), updt)"
   ]
  },
  {
   "cell_type": "code",
   "execution_count": 91,
   "metadata": {},
   "outputs": [
    {
     "name": "stdout",
     "output_type": "stream",
     "text": [
      "39.9705\n"
     ]
    }
   ],
   "source": [
    "# Q16 random predefined sequence\n",
    "\n",
    "updts = []\n",
    "for i in range(2000):\n",
    "    w, updt = train_PLA(X,y, rand = True)\n",
    "    y_prim = np.where(np.dot(X, w) >0, 1, -1)\n",
    "#     assert sum(y_prim ==y) == 400, print(sum(y_prim==y), i)\n",
    "    updts.append(updt)\n",
    "print(np.array(updts).mean())"
   ]
  },
  {
   "cell_type": "code",
   "execution_count": 92,
   "metadata": {},
   "outputs": [
    {
     "name": "stdout",
     "output_type": "stream",
     "text": [
      "39.8875\n"
     ]
    }
   ],
   "source": [
    "# Q17 adjust eta =0.5\n",
    "updts = []\n",
    "for i in range(2000):\n",
    "    w, updt = train_PLA(X,y, eta = 0.5, rand = True)\n",
    "    y_prim = np.where(np.dot(X, w) >0, 1, -1)\n",
    "#     assert sum(y_prim ==y) == 400, print(sum(y_prim==y), i)\n",
    "    updts.append(updt)\n",
    "print(np.array(updts).mean())"
   ]
  },
  {
   "cell_type": "code",
   "execution_count": 108,
   "metadata": {},
   "outputs": [],
   "source": [
    "def validate(w):\n",
    "    # return the error on the test set\n",
    "    y_prim = np.where(np.dot(X_test, w) >0, 1, -1)\n",
    "    results = sum(y_prim ==y_test)\n",
    "    return float((y_test.shape[0] - results)/y_test.shape[0])"
   ]
  },
  {
   "cell_type": "code",
   "execution_count": 117,
   "metadata": {},
   "outputs": [],
   "source": [
    "def train_pocket_PLA(X, y, update, eta = 1):\n",
    "    w = np.zeros(X.shape[1])\n",
    "    old_w_err = validate(w)\n",
    "    best_w = w\n",
    "    for u in range(update):\n",
    "        idx = np.random.permutation(X.shape[0])\n",
    "        for i in idx:\n",
    "            # a update is a full-round over training set, or until a weight update\n",
    "            y_prim = 1 if (np.dot(X[i], w) > 0 ) else -1\n",
    "            if y_prim != y[i]:\n",
    "                w = w + eta * y[i] * X[i]\n",
    "                new_w_err = validate(w)\n",
    "                \n",
    "                if new_w_err < old_w_err:\n",
    "                    best_w = w\n",
    "                    #print(new_w_err, old_w_err)\n",
    "                    old_w_err = new_w_err\n",
    "\n",
    "\n",
    "\n",
    "    return w, best_w"
   ]
  },
  {
   "cell_type": "code",
   "execution_count": 118,
   "metadata": {},
   "outputs": [
    {
     "name": "stdout",
     "output_type": "stream",
     "text": [
      "0.228972\n",
      "0.09977600000000003\n"
     ]
    }
   ],
   "source": [
    "# Q18,19\n",
    "w_err = []\n",
    "best_w_err = []\n",
    "for i in range(2000):\n",
    "    w, best_w = train_pocket_PLA(X_train,y_train, 50)\n",
    "    w_err.append(validate(w))\n",
    "    best_w_err.append(validate(best_w))\n",
    "print(np.array(w_err).mean())\n",
    "print(np.array(best_w_err).mean())\n"
   ]
  },
  {
   "cell_type": "code",
   "execution_count": null,
   "metadata": {},
   "outputs": [],
   "source": [
    "# Q20\n",
    "w_err = []\n",
    "best_w_err = []\n",
    "for i in range(2000):\n",
    "    w, best_w = train_pocket_PLA(X_train,y_train, 100)\n",
    "    w_err.append(validate(w))\n",
    "    best_w_err.append(validate(best_w))\n",
    "print(np.array(w_err).mean())\n",
    "print(np.array(best_w_err).mean())\n"
   ]
  },
  {
   "cell_type": "code",
   "execution_count": 114,
   "metadata": {},
   "outputs": [
    {
     "data": {
      "text/plain": [
       "0.1"
      ]
     },
     "execution_count": 114,
     "metadata": {},
     "output_type": "execute_result"
    }
   ],
   "source": [
    "validate(best_w)"
   ]
  },
  {
   "cell_type": "raw",
   "metadata": {},
   "source": [
    "# implement perceptron learning algorithm, with fixed, predetermined random cycle\n",
    "updates = []\n",
    "X = X_ori\n",
    "for n in range(2000):\n",
    "    X_idx = np.random.permutation(X_ori.shape[0])\n",
    "    iteration = 1000\n",
    "    i = 0\n",
    "    nb_updates = 0\n",
    "    w = np.zeros((5))\n",
    "\n",
    "    for t in range(iteration):\n",
    "        if i == (X.shape[0] - 1):\n",
    "            break\n",
    "        for i in range(X.shape[0]):\n",
    "            idx = X_idx[i]\n",
    "            y_prim = 1 if (np.dot(X[idx], w) > 0 ) else -1\n",
    "            if y_prim != y[idx]:\n",
    "                w = w + y[idx] * X[idx]\n",
    "                nb_updates += 1\n",
    "                break\n",
    "    updates.append(nb_updates)\n",
    "        \n",
    "            \n",
    "        "
   ]
  },
  {
   "cell_type": "code",
   "execution_count": 8,
   "metadata": {},
   "outputs": [
    {
     "data": {
      "text/plain": [
       "65.6595"
      ]
     },
     "execution_count": 8,
     "metadata": {},
     "output_type": "execute_result"
    }
   ],
   "source": [
    "np.array(updates).mean()"
   ]
  },
  {
   "cell_type": "code",
   "execution_count": 9,
   "metadata": {},
   "outputs": [
    {
     "data": {
      "text/plain": [
       "array([ 2.410275, -0.805645,  2.12749 ,  3.641752, -3.      ])"
      ]
     },
     "execution_count": 9,
     "metadata": {},
     "output_type": "execute_result"
    }
   ],
   "source": [
    "w"
   ]
  },
  {
   "cell_type": "code",
   "execution_count": 10,
   "metadata": {},
   "outputs": [
    {
     "data": {
      "text/plain": [
       "400"
      ]
     },
     "execution_count": 10,
     "metadata": {},
     "output_type": "execute_result"
    }
   ],
   "source": [
    "y_prim = np.where(np.dot(X, w) >0, 1, -1)\n",
    "sum(y_prim ==y)"
   ]
  },
  {
   "cell_type": "code",
   "execution_count": null,
   "metadata": {},
   "outputs": [],
   "source": [
    "# implement perceptron learning algorithm, with fixed, predetermined random cycle\n",
    "# update rule with eta\n",
    "eta = 0.5\n",
    "updates = []\n",
    "for n in range(2000):\n",
    "    X_idx = np.random.permutation(X_ori.shape[0])\n",
    "    iteration = 10000\n",
    "    i = 0\n",
    "    nb_updates = 0\n",
    "    w = np.zeros((5))\n",
    "\n",
    "    for t in range(iteration):\n",
    "        if i == X.shape[0] - 1:\n",
    "            break\n",
    "        for i in range(X.shape[0]):\n",
    "            idx = X_idx[i]\n",
    "            y_prim = 1 if (np.dot(X[idx], w) > 0 ) else -1\n",
    "            if y_prim != y[idx]:\n",
    "                w = w + eta * y[idx] * X[idx]\n",
    "                nb_updates += 1\n",
    "                break\n",
    "    updates.append(nb_updates)\n",
    "        \n",
    "            \n",
    "        "
   ]
  },
  {
   "cell_type": "code",
   "execution_count": null,
   "metadata": {},
   "outputs": [],
   "source": [
    "np.array(updates).mean()"
   ]
  },
  {
   "cell_type": "code",
   "execution_count": 13,
   "metadata": {},
   "outputs": [],
   "source": [
    "with open('hw1_18_test.dat','r') as f:\n",
    "    df_test = pd.DataFrame(l.rstrip().split() for l in f)\n",
    "    \n",
    "X_test = np.array(df_test.iloc[:,:4], dtype=float)\n",
    "X_test = np.concatenate((X_test, np.ones((X_test.shape[0],1))), axis = 1)\n",
    "y_test = np.array(df_test.iloc[:,4], dtype = int)"
   ]
  },
  {
   "cell_type": "code",
   "execution_count": 14,
   "metadata": {},
   "outputs": [],
   "source": [
    "with open('hw1_18_train.dat','r') as f:\n",
    "    df_train = pd.DataFrame(l.rstrip().split() for l in f)\n",
    "    \n",
    "X_train = np.array(df_train.iloc[:,:4], dtype=float)\n",
    "X_train = np.concatenate((X_train, np.ones((X_train.shape[0],1))), axis = 1)\n",
    "y_train = np.array(df_train.iloc[:,4], dtype = int)"
   ]
  },
  {
   "cell_type": "code",
   "execution_count": 15,
   "metadata": {},
   "outputs": [
    {
     "data": {
      "text/plain": [
       "(500, 5)"
      ]
     },
     "execution_count": 15,
     "metadata": {},
     "output_type": "execute_result"
    }
   ],
   "source": [
    "X_train.shape"
   ]
  },
  {
   "cell_type": "code",
   "execution_count": 16,
   "metadata": {},
   "outputs": [
    {
     "data": {
      "text/plain": [
       "(500, 5)"
      ]
     },
     "execution_count": 16,
     "metadata": {},
     "output_type": "execute_result"
    }
   ],
   "source": [
    "X_test.shape"
   ]
  },
  {
   "cell_type": "code",
   "execution_count": 17,
   "metadata": {},
   "outputs": [],
   "source": [
    "def evaluate(X, y, w):\n",
    "    y_prim = np.where(np.dot(X, w) >0, 1, -1)\n",
    "    results = sum(y_prim ==y)\n",
    "    return float(results/X.shape[0])"
   ]
  },
  {
   "cell_type": "code",
   "execution_count": 59,
   "metadata": {},
   "outputs": [],
   "source": [
    "def pocket_pla(X, y):\n",
    "    # implement perceptron learning algorithm, with random cycle\n",
    "    results = []\n",
    "    for n in range(2000):\n",
    "        #X_idx = np.random.permutation(X.shape[0])\n",
    "        iteration = 50\n",
    "        i = 0\n",
    "        nb_updates = 0\n",
    "        w = np.random.rand((5))\n",
    "\n",
    "        for t in range(iteration):\n",
    "#             if i == (X.shape[0] - 1):\n",
    "#                 break\n",
    "            for i in range(X.shape[0]):\n",
    "                idx = np.random.randint(X.shape[0])\n",
    "                y_prim = 1 if (np.dot(X[idx], w) > 0 ) else -1\n",
    "                if y_prim != y[idx]:\n",
    "                    new_w = w + y[idx] * X[idx]\n",
    "                    new_w_eva = evaluate(X_test, y_test, new_w)\n",
    "                    old_w_eva = evaluate(X_test, y_test, w)\n",
    "#                     print(new_w_eva, old_w_eva)\n",
    "#                     print(new_w, w)\n",
    "                    if new_w_eva > old_w_eva:\n",
    "                        w = new_w\n",
    "                        nb_updates += 1\n",
    "#                         print(new_w_eva)\n",
    "                        break\n",
    "        result = evaluate(X_test, y_test, w)\n",
    "        results.append(result)\n",
    "    return w, results"
   ]
  },
  {
   "cell_type": "code",
   "execution_count": 60,
   "metadata": {},
   "outputs": [
    {
     "ename": "KeyboardInterrupt",
     "evalue": "",
     "output_type": "error",
     "traceback": [
      "\u001b[1;31m---------------------------------------------------------------------------\u001b[0m",
      "\u001b[1;31mKeyboardInterrupt\u001b[0m                         Traceback (most recent call last)",
      "\u001b[1;32m<ipython-input-60-fa47d4549238>\u001b[0m in \u001b[0;36m<module>\u001b[1;34m()\u001b[0m\n\u001b[1;32m----> 1\u001b[1;33m \u001b[0mw\u001b[0m\u001b[1;33m,\u001b[0m \u001b[0mupdates\u001b[0m \u001b[1;33m=\u001b[0m \u001b[0mpocket_pla\u001b[0m\u001b[1;33m(\u001b[0m\u001b[0mX_train\u001b[0m\u001b[1;33m,\u001b[0m \u001b[0my_train\u001b[0m\u001b[1;33m)\u001b[0m\u001b[1;33m\u001b[0m\u001b[0m\n\u001b[0m\u001b[0;32m      2\u001b[0m \u001b[0mresult\u001b[0m \u001b[1;33m=\u001b[0m \u001b[0mevaluate\u001b[0m\u001b[1;33m(\u001b[0m\u001b[0mX_test\u001b[0m\u001b[1;33m,\u001b[0m \u001b[0my_test\u001b[0m\u001b[1;33m,\u001b[0m \u001b[0mw\u001b[0m\u001b[1;33m)\u001b[0m\u001b[1;33m\u001b[0m\u001b[0m\n\u001b[0;32m      3\u001b[0m \u001b[0mresult\u001b[0m\u001b[1;33m\u001b[0m\u001b[0m\n",
      "\u001b[1;32m<ipython-input-59-4412b4ff5624>\u001b[0m in \u001b[0;36mpocket_pla\u001b[1;34m(X, y)\u001b[0m\n\u001b[0;32m     17\u001b[0m                 \u001b[1;32mif\u001b[0m \u001b[0my_prim\u001b[0m \u001b[1;33m!=\u001b[0m \u001b[0my\u001b[0m\u001b[1;33m[\u001b[0m\u001b[0midx\u001b[0m\u001b[1;33m]\u001b[0m\u001b[1;33m:\u001b[0m\u001b[1;33m\u001b[0m\u001b[0m\n\u001b[0;32m     18\u001b[0m                     \u001b[0mnew_w\u001b[0m \u001b[1;33m=\u001b[0m \u001b[0mw\u001b[0m \u001b[1;33m+\u001b[0m \u001b[0my\u001b[0m\u001b[1;33m[\u001b[0m\u001b[0midx\u001b[0m\u001b[1;33m]\u001b[0m \u001b[1;33m*\u001b[0m \u001b[0mX\u001b[0m\u001b[1;33m[\u001b[0m\u001b[0midx\u001b[0m\u001b[1;33m]\u001b[0m\u001b[1;33m\u001b[0m\u001b[0m\n\u001b[1;32m---> 19\u001b[1;33m                     \u001b[0mnew_w_eva\u001b[0m \u001b[1;33m=\u001b[0m \u001b[0mevaluate\u001b[0m\u001b[1;33m(\u001b[0m\u001b[0mX_test\u001b[0m\u001b[1;33m,\u001b[0m \u001b[0my_test\u001b[0m\u001b[1;33m,\u001b[0m \u001b[0mnew_w\u001b[0m\u001b[1;33m)\u001b[0m\u001b[1;33m\u001b[0m\u001b[0m\n\u001b[0m\u001b[0;32m     20\u001b[0m                     \u001b[0mold_w_eva\u001b[0m \u001b[1;33m=\u001b[0m \u001b[0mevaluate\u001b[0m\u001b[1;33m(\u001b[0m\u001b[0mX_test\u001b[0m\u001b[1;33m,\u001b[0m \u001b[0my_test\u001b[0m\u001b[1;33m,\u001b[0m \u001b[0mw\u001b[0m\u001b[1;33m)\u001b[0m\u001b[1;33m\u001b[0m\u001b[0m\n\u001b[0;32m     21\u001b[0m \u001b[1;31m#                     print(new_w_eva, old_w_eva)\u001b[0m\u001b[1;33m\u001b[0m\u001b[1;33m\u001b[0m\u001b[0m\n",
      "\u001b[1;32m<ipython-input-17-fc7a6bce5ce2>\u001b[0m in \u001b[0;36mevaluate\u001b[1;34m(X, y, w)\u001b[0m\n\u001b[0;32m      1\u001b[0m \u001b[1;32mdef\u001b[0m \u001b[0mevaluate\u001b[0m\u001b[1;33m(\u001b[0m\u001b[0mX\u001b[0m\u001b[1;33m,\u001b[0m \u001b[0my\u001b[0m\u001b[1;33m,\u001b[0m \u001b[0mw\u001b[0m\u001b[1;33m)\u001b[0m\u001b[1;33m:\u001b[0m\u001b[1;33m\u001b[0m\u001b[0m\n\u001b[1;32m----> 2\u001b[1;33m     \u001b[0my_prim\u001b[0m \u001b[1;33m=\u001b[0m \u001b[0mnp\u001b[0m\u001b[1;33m.\u001b[0m\u001b[0mwhere\u001b[0m\u001b[1;33m(\u001b[0m\u001b[0mnp\u001b[0m\u001b[1;33m.\u001b[0m\u001b[0mdot\u001b[0m\u001b[1;33m(\u001b[0m\u001b[0mX\u001b[0m\u001b[1;33m,\u001b[0m \u001b[0mw\u001b[0m\u001b[1;33m)\u001b[0m \u001b[1;33m>\u001b[0m\u001b[1;36m0\u001b[0m\u001b[1;33m,\u001b[0m \u001b[1;36m1\u001b[0m\u001b[1;33m,\u001b[0m \u001b[1;33m-\u001b[0m\u001b[1;36m1\u001b[0m\u001b[1;33m)\u001b[0m\u001b[1;33m\u001b[0m\u001b[0m\n\u001b[0m\u001b[0;32m      3\u001b[0m     \u001b[0mresults\u001b[0m \u001b[1;33m=\u001b[0m \u001b[0msum\u001b[0m\u001b[1;33m(\u001b[0m\u001b[0my_prim\u001b[0m \u001b[1;33m==\u001b[0m\u001b[0my\u001b[0m\u001b[1;33m)\u001b[0m\u001b[1;33m\u001b[0m\u001b[0m\n\u001b[0;32m      4\u001b[0m     \u001b[1;32mreturn\u001b[0m \u001b[0mfloat\u001b[0m\u001b[1;33m(\u001b[0m\u001b[0mresults\u001b[0m\u001b[1;33m/\u001b[0m\u001b[0mX\u001b[0m\u001b[1;33m.\u001b[0m\u001b[0mshape\u001b[0m\u001b[1;33m[\u001b[0m\u001b[1;36m0\u001b[0m\u001b[1;33m]\u001b[0m\u001b[1;33m)\u001b[0m\u001b[1;33m\u001b[0m\u001b[0m\n",
      "\u001b[1;31mKeyboardInterrupt\u001b[0m: "
     ]
    }
   ],
   "source": [
    "w, updates = pocket_pla(X_train, y_train)\n",
    "result = evaluate(X_test, y_test, w)\n",
    "result"
   ]
  },
  {
   "cell_type": "code",
   "execution_count": 57,
   "metadata": {},
   "outputs": [],
   "source": [
    "def pure_pla(X, y):\n",
    "    # implement perceptron learning algorithm, with random cycle\n",
    "    results = []\n",
    "    for n in range(2000):\n",
    "        #X_idx = np.random.permutation(X.shape[0])\n",
    "        iteration = 50\n",
    "        i = 0\n",
    "        nb_updates = 0\n",
    "        w = np.random.rand((5))\n",
    "\n",
    "        for t in range(iteration):\n",
    "#             if i == (X.shape[0] - 1):\n",
    "#                 break\n",
    "            for i in range(X.shape[0]):\n",
    "                idx = np.random.randint(X.shape[0])\n",
    "                y_prim = 1 if (np.dot(X[idx], w) > 0 ) else -1\n",
    "                if y_prim != y[idx]:\n",
    "                    new_w = w + y[idx] * X[idx]\n",
    "#                     new_w_eva = evaluate(X_test, y_test, new_w)\n",
    "#                     old_w_eva = evaluate(X_test, y_test, w)\n",
    "#                     print(new_w_eva, old_w_eva)\n",
    "#                     print(new_w, w)\n",
    "#                     if new_w_eva > old_w_eva:\n",
    "                    w = new_w\n",
    "                    nb_updates += 1\n",
    "                    #print(new_w_eva)\n",
    "                    break\n",
    "        result = evaluate(X_test, y_test, w)\n",
    "        results.append(result)\n",
    "    return w, results"
   ]
  },
  {
   "cell_type": "code",
   "execution_count": 58,
   "metadata": {},
   "outputs": [
    {
     "data": {
      "text/plain": [
       "0.696357"
      ]
     },
     "execution_count": 58,
     "metadata": {},
     "output_type": "execute_result"
    }
   ],
   "source": [
    "w, results = pure_pla(X_train, y_train)\n",
    "np.array(results).mean()"
   ]
  },
  {
   "cell_type": "code",
   "execution_count": null,
   "metadata": {},
   "outputs": [],
   "source": []
  }
 ],
 "metadata": {
  "kernelspec": {
   "display_name": "Python 3",
   "language": "python",
   "name": "python3"
  },
  "language_info": {
   "codemirror_mode": {
    "name": "ipython",
    "version": 3
   },
   "file_extension": ".py",
   "mimetype": "text/x-python",
   "name": "python",
   "nbconvert_exporter": "python",
   "pygments_lexer": "ipython3",
   "version": "3.5.5"
  }
 },
 "nbformat": 4,
 "nbformat_minor": 2
}
